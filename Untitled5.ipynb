{
 "cells": [
  {
   "cell_type": "code",
   "execution_count": 1,
   "id": "e89ab7a9",
   "metadata": {},
   "outputs": [],
   "source": [
    "import numpy as np \n",
    "import pandas as pd \n",
    "import os\n",
    "for dirname, _, filenames in os.walk('/kaggle/input'):\n",
    "    for filename in filenames:\n",
    "        print(os.path.join(dirname, filename))\n"
   ]
  },
  {
   "cell_type": "code",
   "execution_count": 2,
   "id": "c2ae75aa",
   "metadata": {},
   "outputs": [],
   "source": [
    "train_class_data = pd.read_csv(\"C:/Users/TANG YOON CHUEN/Desktop/UMS_files/FYP\\Dataset/archive/Human Action Recognition/Training_set.csv\")\n",
    "num_unique_classes=len(train_class_data['label'].unique())\n",
    "\n"
   ]
  },
  {
   "cell_type": "code",
   "execution_count": 3,
   "id": "9e0a559a",
   "metadata": {},
   "outputs": [
    {
     "data": {
      "text/html": [
       "<div>\n",
       "<style scoped>\n",
       "    .dataframe tbody tr th:only-of-type {\n",
       "        vertical-align: middle;\n",
       "    }\n",
       "\n",
       "    .dataframe tbody tr th {\n",
       "        vertical-align: top;\n",
       "    }\n",
       "\n",
       "    .dataframe thead th {\n",
       "        text-align: right;\n",
       "    }\n",
       "</style>\n",
       "<table border=\"1\" class=\"dataframe\">\n",
       "  <thead>\n",
       "    <tr style=\"text-align: right;\">\n",
       "      <th></th>\n",
       "      <th>filename</th>\n",
       "      <th>label</th>\n",
       "    </tr>\n",
       "  </thead>\n",
       "  <tbody>\n",
       "    <tr>\n",
       "      <th>0</th>\n",
       "      <td>Image_1.jpg</td>\n",
       "      <td>sitting</td>\n",
       "    </tr>\n",
       "    <tr>\n",
       "      <th>1</th>\n",
       "      <td>Image_2.jpg</td>\n",
       "      <td>using_laptop</td>\n",
       "    </tr>\n",
       "    <tr>\n",
       "      <th>2</th>\n",
       "      <td>Image_3.jpg</td>\n",
       "      <td>hugging</td>\n",
       "    </tr>\n",
       "    <tr>\n",
       "      <th>3</th>\n",
       "      <td>Image_4.jpg</td>\n",
       "      <td>sleeping</td>\n",
       "    </tr>\n",
       "    <tr>\n",
       "      <th>4</th>\n",
       "      <td>Image_5.jpg</td>\n",
       "      <td>using_laptop</td>\n",
       "    </tr>\n",
       "  </tbody>\n",
       "</table>\n",
       "</div>"
      ],
      "text/plain": [
       "      filename         label\n",
       "0  Image_1.jpg       sitting\n",
       "1  Image_2.jpg  using_laptop\n",
       "2  Image_3.jpg       hugging\n",
       "3  Image_4.jpg      sleeping\n",
       "4  Image_5.jpg  using_laptop"
      ]
     },
     "execution_count": 3,
     "metadata": {},
     "output_type": "execute_result"
    }
   ],
   "source": [
    "train_class_data.head()\n"
   ]
  },
  {
   "cell_type": "code",
   "execution_count": 4,
   "id": "f601824a",
   "metadata": {},
   "outputs": [
    {
     "data": {
      "text/plain": [
       "sitting               840\n",
       "using_laptop          840\n",
       "hugging               840\n",
       "sleeping              840\n",
       "drinking              840\n",
       "clapping              840\n",
       "dancing               840\n",
       "cycling               840\n",
       "calling               840\n",
       "laughing              840\n",
       "eating                840\n",
       "fighting              840\n",
       "listening_to_music    840\n",
       "running               840\n",
       "texting               840\n",
       "Name: label, dtype: int64"
      ]
     },
     "execution_count": 4,
     "metadata": {},
     "output_type": "execute_result"
    }
   ],
   "source": [
    "train_class_data['label'].value_counts()\n"
   ]
  },
  {
   "cell_type": "code",
   "execution_count": 5,
   "id": "aaffa420",
   "metadata": {},
   "outputs": [],
   "source": [
    "from keras.preprocessing import image"
   ]
  },
  {
   "cell_type": "code",
   "execution_count": 6,
   "id": "2b5445e7",
   "metadata": {},
   "outputs": [],
   "source": [
    "import matplotlib.pyplot as plt\n",
    "import seaborn as sns"
   ]
  },
  {
   "cell_type": "code",
   "execution_count": 7,
   "id": "9bfa5558",
   "metadata": {},
   "outputs": [],
   "source": [
    "from sklearn.model_selection import StratifiedKFold"
   ]
  },
  {
   "cell_type": "code",
   "execution_count": 8,
   "id": "4f29c889",
   "metadata": {},
   "outputs": [],
   "source": [
    "train_class_data['Kfold']=-1"
   ]
  },
  {
   "cell_type": "code",
   "execution_count": 9,
   "id": "944935e9",
   "metadata": {},
   "outputs": [
    {
     "data": {
      "text/html": [
       "<div>\n",
       "<style scoped>\n",
       "    .dataframe tbody tr th:only-of-type {\n",
       "        vertical-align: middle;\n",
       "    }\n",
       "\n",
       "    .dataframe tbody tr th {\n",
       "        vertical-align: top;\n",
       "    }\n",
       "\n",
       "    .dataframe thead th {\n",
       "        text-align: right;\n",
       "    }\n",
       "</style>\n",
       "<table border=\"1\" class=\"dataframe\">\n",
       "  <thead>\n",
       "    <tr style=\"text-align: right;\">\n",
       "      <th></th>\n",
       "      <th>filename</th>\n",
       "      <th>label</th>\n",
       "      <th>Kfold</th>\n",
       "    </tr>\n",
       "  </thead>\n",
       "  <tbody>\n",
       "    <tr>\n",
       "      <th>0</th>\n",
       "      <td>Image_1.jpg</td>\n",
       "      <td>sitting</td>\n",
       "      <td>-1</td>\n",
       "    </tr>\n",
       "    <tr>\n",
       "      <th>1</th>\n",
       "      <td>Image_2.jpg</td>\n",
       "      <td>using_laptop</td>\n",
       "      <td>-1</td>\n",
       "    </tr>\n",
       "    <tr>\n",
       "      <th>2</th>\n",
       "      <td>Image_3.jpg</td>\n",
       "      <td>hugging</td>\n",
       "      <td>-1</td>\n",
       "    </tr>\n",
       "    <tr>\n",
       "      <th>3</th>\n",
       "      <td>Image_4.jpg</td>\n",
       "      <td>sleeping</td>\n",
       "      <td>-1</td>\n",
       "    </tr>\n",
       "    <tr>\n",
       "      <th>4</th>\n",
       "      <td>Image_5.jpg</td>\n",
       "      <td>using_laptop</td>\n",
       "      <td>-1</td>\n",
       "    </tr>\n",
       "  </tbody>\n",
       "</table>\n",
       "</div>"
      ],
      "text/plain": [
       "      filename         label  Kfold\n",
       "0  Image_1.jpg       sitting     -1\n",
       "1  Image_2.jpg  using_laptop     -1\n",
       "2  Image_3.jpg       hugging     -1\n",
       "3  Image_4.jpg      sleeping     -1\n",
       "4  Image_5.jpg  using_laptop     -1"
      ]
     },
     "execution_count": 9,
     "metadata": {},
     "output_type": "execute_result"
    }
   ],
   "source": [
    "train_class_data.head()"
   ]
  },
  {
   "cell_type": "code",
   "execution_count": 10,
   "id": "c456c475",
   "metadata": {},
   "outputs": [],
   "source": [
    "train_class_data=train_class_data.sample(frac=1).reset_index(drop=True)"
   ]
  },
  {
   "cell_type": "code",
   "execution_count": 11,
   "id": "493ef465",
   "metadata": {},
   "outputs": [
    {
     "data": {
      "text/html": [
       "<div>\n",
       "<style scoped>\n",
       "    .dataframe tbody tr th:only-of-type {\n",
       "        vertical-align: middle;\n",
       "    }\n",
       "\n",
       "    .dataframe tbody tr th {\n",
       "        vertical-align: top;\n",
       "    }\n",
       "\n",
       "    .dataframe thead th {\n",
       "        text-align: right;\n",
       "    }\n",
       "</style>\n",
       "<table border=\"1\" class=\"dataframe\">\n",
       "  <thead>\n",
       "    <tr style=\"text-align: right;\">\n",
       "      <th></th>\n",
       "      <th>filename</th>\n",
       "      <th>label</th>\n",
       "      <th>Kfold</th>\n",
       "    </tr>\n",
       "  </thead>\n",
       "  <tbody>\n",
       "    <tr>\n",
       "      <th>12595</th>\n",
       "      <td>Image_3323.jpg</td>\n",
       "      <td>running</td>\n",
       "      <td>-1</td>\n",
       "    </tr>\n",
       "    <tr>\n",
       "      <th>12596</th>\n",
       "      <td>Image_4224.jpg</td>\n",
       "      <td>clapping</td>\n",
       "      <td>-1</td>\n",
       "    </tr>\n",
       "    <tr>\n",
       "      <th>12597</th>\n",
       "      <td>Image_9170.jpg</td>\n",
       "      <td>using_laptop</td>\n",
       "      <td>-1</td>\n",
       "    </tr>\n",
       "    <tr>\n",
       "      <th>12598</th>\n",
       "      <td>Image_7756.jpg</td>\n",
       "      <td>texting</td>\n",
       "      <td>-1</td>\n",
       "    </tr>\n",
       "    <tr>\n",
       "      <th>12599</th>\n",
       "      <td>Image_4670.jpg</td>\n",
       "      <td>running</td>\n",
       "      <td>-1</td>\n",
       "    </tr>\n",
       "  </tbody>\n",
       "</table>\n",
       "</div>"
      ],
      "text/plain": [
       "             filename         label  Kfold\n",
       "12595  Image_3323.jpg       running     -1\n",
       "12596  Image_4224.jpg      clapping     -1\n",
       "12597  Image_9170.jpg  using_laptop     -1\n",
       "12598  Image_7756.jpg       texting     -1\n",
       "12599  Image_4670.jpg       running     -1"
      ]
     },
     "execution_count": 11,
     "metadata": {},
     "output_type": "execute_result"
    }
   ],
   "source": [
    "train_class_data.tail()"
   ]
  },
  {
   "cell_type": "code",
   "execution_count": 12,
   "id": "ca7603dd",
   "metadata": {},
   "outputs": [],
   "source": [
    "y=train_class_data['label']"
   ]
  },
  {
   "cell_type": "code",
   "execution_count": 13,
   "id": "0c232199",
   "metadata": {},
   "outputs": [],
   "source": [
    "kf=StratifiedKFold(n_splits=5)"
   ]
  },
  {
   "cell_type": "code",
   "execution_count": 14,
   "id": "6692a13b",
   "metadata": {},
   "outputs": [],
   "source": [
    "for f,(t_,v_) in enumerate(kf.split(X=train_class_data,y=y)):\n",
    "    train_class_data.loc[v_,'Kfold']=f"
   ]
  },
  {
   "cell_type": "code",
   "execution_count": 15,
   "id": "70d4a9bd",
   "metadata": {},
   "outputs": [
    {
     "data": {
      "text/html": [
       "<div>\n",
       "<style scoped>\n",
       "    .dataframe tbody tr th:only-of-type {\n",
       "        vertical-align: middle;\n",
       "    }\n",
       "\n",
       "    .dataframe tbody tr th {\n",
       "        vertical-align: top;\n",
       "    }\n",
       "\n",
       "    .dataframe thead th {\n",
       "        text-align: right;\n",
       "    }\n",
       "</style>\n",
       "<table border=\"1\" class=\"dataframe\">\n",
       "  <thead>\n",
       "    <tr style=\"text-align: right;\">\n",
       "      <th></th>\n",
       "      <th>filename</th>\n",
       "      <th>label</th>\n",
       "      <th>Kfold</th>\n",
       "    </tr>\n",
       "  </thead>\n",
       "  <tbody>\n",
       "    <tr>\n",
       "      <th>0</th>\n",
       "      <td>Image_9460.jpg</td>\n",
       "      <td>laughing</td>\n",
       "      <td>0</td>\n",
       "    </tr>\n",
       "    <tr>\n",
       "      <th>1</th>\n",
       "      <td>Image_7628.jpg</td>\n",
       "      <td>cycling</td>\n",
       "      <td>0</td>\n",
       "    </tr>\n",
       "    <tr>\n",
       "      <th>2</th>\n",
       "      <td>Image_6910.jpg</td>\n",
       "      <td>texting</td>\n",
       "      <td>0</td>\n",
       "    </tr>\n",
       "    <tr>\n",
       "      <th>3</th>\n",
       "      <td>Image_6022.jpg</td>\n",
       "      <td>clapping</td>\n",
       "      <td>0</td>\n",
       "    </tr>\n",
       "    <tr>\n",
       "      <th>4</th>\n",
       "      <td>Image_1541.jpg</td>\n",
       "      <td>running</td>\n",
       "      <td>0</td>\n",
       "    </tr>\n",
       "  </tbody>\n",
       "</table>\n",
       "</div>"
      ],
      "text/plain": [
       "         filename     label  Kfold\n",
       "0  Image_9460.jpg  laughing      0\n",
       "1  Image_7628.jpg   cycling      0\n",
       "2  Image_6910.jpg   texting      0\n",
       "3  Image_6022.jpg  clapping      0\n",
       "4  Image_1541.jpg   running      0"
      ]
     },
     "execution_count": 15,
     "metadata": {},
     "output_type": "execute_result"
    }
   ],
   "source": [
    "train_class_data.head()"
   ]
  },
  {
   "cell_type": "code",
   "execution_count": 16,
   "id": "c0759ee2",
   "metadata": {},
   "outputs": [],
   "source": [
    "train=train_class_data[train_class_data['Kfold']!=4]"
   ]
  },
  {
   "cell_type": "code",
   "execution_count": 17,
   "id": "ec8f3ea2",
   "metadata": {},
   "outputs": [],
   "source": [
    "valid=train_class_data[train_class_data['Kfold']==4]"
   ]
  },
  {
   "cell_type": "code",
   "execution_count": 18,
   "id": "54692329",
   "metadata": {},
   "outputs": [
    {
     "data": {
      "text/html": [
       "<div>\n",
       "<style scoped>\n",
       "    .dataframe tbody tr th:only-of-type {\n",
       "        vertical-align: middle;\n",
       "    }\n",
       "\n",
       "    .dataframe tbody tr th {\n",
       "        vertical-align: top;\n",
       "    }\n",
       "\n",
       "    .dataframe thead th {\n",
       "        text-align: right;\n",
       "    }\n",
       "</style>\n",
       "<table border=\"1\" class=\"dataframe\">\n",
       "  <thead>\n",
       "    <tr style=\"text-align: right;\">\n",
       "      <th></th>\n",
       "      <th>filename</th>\n",
       "      <th>label</th>\n",
       "      <th>Kfold</th>\n",
       "    </tr>\n",
       "  </thead>\n",
       "  <tbody>\n",
       "    <tr>\n",
       "      <th>12595</th>\n",
       "      <td>Image_3323.jpg</td>\n",
       "      <td>running</td>\n",
       "      <td>4</td>\n",
       "    </tr>\n",
       "    <tr>\n",
       "      <th>12596</th>\n",
       "      <td>Image_4224.jpg</td>\n",
       "      <td>clapping</td>\n",
       "      <td>4</td>\n",
       "    </tr>\n",
       "    <tr>\n",
       "      <th>12597</th>\n",
       "      <td>Image_9170.jpg</td>\n",
       "      <td>using_laptop</td>\n",
       "      <td>4</td>\n",
       "    </tr>\n",
       "    <tr>\n",
       "      <th>12598</th>\n",
       "      <td>Image_7756.jpg</td>\n",
       "      <td>texting</td>\n",
       "      <td>4</td>\n",
       "    </tr>\n",
       "    <tr>\n",
       "      <th>12599</th>\n",
       "      <td>Image_4670.jpg</td>\n",
       "      <td>running</td>\n",
       "      <td>4</td>\n",
       "    </tr>\n",
       "  </tbody>\n",
       "</table>\n",
       "</div>"
      ],
      "text/plain": [
       "             filename         label  Kfold\n",
       "12595  Image_3323.jpg       running      4\n",
       "12596  Image_4224.jpg      clapping      4\n",
       "12597  Image_9170.jpg  using_laptop      4\n",
       "12598  Image_7756.jpg       texting      4\n",
       "12599  Image_4670.jpg       running      4"
      ]
     },
     "execution_count": 18,
     "metadata": {},
     "output_type": "execute_result"
    }
   ],
   "source": [
    "valid.tail()"
   ]
  },
  {
   "cell_type": "code",
   "execution_count": 19,
   "id": "75289817",
   "metadata": {},
   "outputs": [
    {
     "data": {
      "text/plain": [
       "calling               168\n",
       "listening_to_music    168\n",
       "clapping              168\n",
       "drinking              168\n",
       "sleeping              168\n",
       "dancing               168\n",
       "laughing              168\n",
       "using_laptop          168\n",
       "running               168\n",
       "hugging               168\n",
       "sitting               168\n",
       "fighting              168\n",
       "cycling               168\n",
       "eating                168\n",
       "texting               168\n",
       "Name: label, dtype: int64"
      ]
     },
     "execution_count": 19,
     "metadata": {},
     "output_type": "execute_result"
    }
   ],
   "source": [
    "valid['label'].value_counts()"
   ]
  },
  {
   "cell_type": "code",
   "execution_count": 20,
   "id": "09467eb1",
   "metadata": {},
   "outputs": [
    {
     "name": "stdout",
     "output_type": "stream",
     "text": [
      "Found 10080 validated image filenames belonging to 15 classes.\n"
     ]
    }
   ],
   "source": [
    "from keras.preprocessing.image import ImageDataGenerator\n",
    "\n",
    "train_datagen = ImageDataGenerator(rescale=1./255,\n",
    "    shear_range=0.2,\n",
    "    zoom_range=0.2,\n",
    "    horizontal_flip=True,\n",
    "    width_shift_range=0.1,\n",
    "    height_shift_range=0.1)\n",
    "\n",
    "train_generator=train_datagen.flow_from_dataframe(dataframe=train,\n",
    "                                            directory=\"C:/Users/TANG YOON CHUEN/Desktop/UMS_files/FYP/Dataset/archive/Human Action Recognition/train/\",\n",
    "                                            x_col=\"filename\",\n",
    "                                            y_col=\"label\",\n",
    "                                            subset=\"training\",\n",
    "                                            batch_size=8,\n",
    "                                            seed=28,\n",
    "                                           shuffle= True,\n",
    "                                            class_mode=\"categorical\",\n",
    "                                            target_size=(331,331))"
   ]
  },
  {
   "cell_type": "code",
   "execution_count": 21,
   "id": "717247a3",
   "metadata": {},
   "outputs": [
    {
     "name": "stdout",
     "output_type": "stream",
     "text": [
      "Found 2520 validated image filenames belonging to 15 classes.\n"
     ]
    }
   ],
   "source": [
    "from keras.preprocessing.image import ImageDataGenerator\n",
    "\n",
    "valid_datagen = ImageDataGenerator(rescale=1./255,\n",
    "         shear_range=0.2,\n",
    "         zoom_range=0.2,\n",
    "         horizontal_flip=True,\n",
    "         width_shift_range=0.1,\n",
    "         height_shift_range=0.1,\n",
    "         )\n",
    "\n",
    "valid_generator=valid_datagen.flow_from_dataframe(dataframe=valid,\n",
    "                                            directory=\"C:/Users/TANG YOON CHUEN/Desktop/UMS_files/FYP/Dataset/archive/Human Action Recognition/train/\",\n",
    "                                            x_col=\"filename\",\n",
    "                                            y_col=\"label\",\n",
    "                                            subset=\"training\",\n",
    "                                            batch_size=8,\n",
    "                                            seed=28,\n",
    "                                           shuffle= True,\n",
    "                                            class_mode=\"categorical\",\n",
    "                                            target_size=(331,331))"
   ]
  },
  {
   "cell_type": "code",
   "execution_count": 22,
   "id": "fe1c5392",
   "metadata": {},
   "outputs": [],
   "source": [
    "from keras.applications.nasnet import NASNetLarge\n",
    "# from keras.applications.resnet50 import preprocess_input,decode_predictions\n",
    "from keras.layers import Input, Conv2D, MaxPool2D, Dense, Flatten\n",
    "from keras.models import Model\n",
    "from keras.utils import to_categorical"
   ]
  },
  {
   "cell_type": "code",
   "execution_count": 23,
   "id": "29a8f69d",
   "metadata": {},
   "outputs": [],
   "source": [
    "nasnet=NASNetLarge(include_top=True,weights='imagenet')"
   ]
  },
  {
   "cell_type": "code",
   "execution_count": 24,
   "id": "314d22e8",
   "metadata": {},
   "outputs": [],
   "source": [
    "import tensorflow as tf"
   ]
  },
  {
   "cell_type": "code",
   "execution_count": 25,
   "id": "5a058ec8",
   "metadata": {},
   "outputs": [],
   "source": [
    "x=nasnet.layers[-2].output\n",
    "fc1=Dense(num_unique_classes, kernel_regularizer=tf.keras.regularizers.l2(0.02),activation='softmax')(x)"
   ]
  },
  {
   "cell_type": "code",
   "execution_count": 26,
   "id": "e181f963",
   "metadata": {},
   "outputs": [],
   "source": [
    "my_model=Model(inputs=nasnet.input,outputs=fc1)"
   ]
  },
  {
   "cell_type": "code",
   "execution_count": 27,
   "id": "ffa9452e",
   "metadata": {},
   "outputs": [],
   "source": [
    "from keras.optimizers import Adam\n",
    "adam=Adam(learning_rate=0.0001)"
   ]
  },
  {
   "cell_type": "code",
   "execution_count": 28,
   "id": "a8ebdbc1",
   "metadata": {},
   "outputs": [],
   "source": [
    "my_model.compile(optimizer=adam, loss='categorical_crossentropy', \n",
    "                 metrics=[\"accuracy\"])"
   ]
  },
  {
   "cell_type": "code",
   "execution_count": 29,
   "id": "aa20b273",
   "metadata": {},
   "outputs": [],
   "source": [
    "import time\n",
    "start_time=time.time()\n"
   ]
  },
  {
   "cell_type": "code",
   "execution_count": 30,
   "id": "8c6a70cf",
   "metadata": {},
   "outputs": [
    {
     "name": "stderr",
     "output_type": "stream",
     "text": [
      "C:\\Users\\TANG YOON CHUEN\\AppData\\Local\\Temp\\ipykernel_131612\\2363485747.py:1: UserWarning: `Model.fit_generator` is deprecated and will be removed in a future version. Please use `Model.fit`, which supports generators.\n",
      "  history = my_model.fit_generator( train_generator,\n"
     ]
    },
    {
     "name": "stdout",
     "output_type": "stream",
     "text": [
      "1260/1260 [==============================] - 11950s 9s/step - loss: 1.4026 - accuracy: 0.7160 - val_loss: 1.1816 - val_accuracy: 0.7409\n"
     ]
    }
   ],
   "source": [
    "history = my_model.fit_generator( train_generator,\n",
    "    steps_per_epoch=len(train_generator),\n",
    "    validation_data=valid_generator,\n",
    "    validation_steps=len(valid_generator),\n",
    "    epochs=1)"
   ]
  },
  {
   "cell_type": "code",
   "execution_count": 31,
   "id": "34730865",
   "metadata": {},
   "outputs": [
    {
     "name": "stdout",
     "output_type": "stream",
     "text": [
      "Training Time: 11950.84 seconds\n"
     ]
    }
   ],
   "source": [
    "end_time = time.time()\n",
    "training_time = end_time - start_time\n",
    "print(\"Training Time: {:.2f} seconds\".format(training_time))"
   ]
  },
  {
   "cell_type": "code",
   "execution_count": 32,
   "id": "216777f1",
   "metadata": {},
   "outputs": [
    {
     "data": {
      "image/png": "[encoded data removed]",
      "text/plain": [
       "<Figure size 1000x500 with 1 Axes>"
      ]
     },
     "metadata": {},
     "output_type": "display_data"
    },
    {
     "data": {
      "image/png": "[encoded data removed]",
      "text/plain": [
       "<Figure size 1000x500 with 1 Axes>"
      ]
     },
     "metadata": {},
     "output_type": "display_data"
    },
    {
     "data": {
      "image/png": "[encoded data removed]",
      "text/plain": [
       "<Figure size 1000x500 with 1 Axes>"
      ]
     },
     "metadata": {},
     "output_type": "display_data"
    }
   ],
   "source": [
    "\n",
    "# Plot the accuracy and loss curves\n",
    "train_accuracy_1 = history.history['accuracy']\n",
    "val_accuracy_1 = history.history['val_accuracy']\n",
    "train_loss_1 = history.history['loss']\n",
    "val_loss_1 = history.history['val_loss']\n",
    "\n",
    "# Plot the accuracy curves\n",
    "plt.figure(figsize=(10, 5))\n",
    "plt.plot(train_accuracy_1, label='Training Accuracy')\n",
    "plt.plot(val_accuracy_1, label='Validation Accuracy')\n",
    "plt.title('Training and Validation Accuracy')\n",
    "plt.xlabel('Epoch')\n",
    "plt.ylabel('Accuracy')\n",
    "plt.legend()\n",
    "plt.show()\n",
    "\n",
    "# Plot the loss curves\n",
    "plt.figure(figsize=(10, 5))\n",
    "plt.plot(train_loss_1, label='Training Loss')\n",
    "plt.plot(val_loss_1, label='Validation Loss')\n",
    "plt.title('Training and Validation Loss')\n",
    "plt.xlabel('Epoch')\n",
    "plt.ylabel('Loss')\n",
    "plt.legend()\n",
    "plt.show()\n",
    "\n",
    "# Plot the accuracy, loss, validation accuracy and validation loss\n",
    "plt.figure(figsize=(10, 5))\n",
    "plt.plot(train_accuracy_1, label='Training Accuracy')\n",
    "plt.plot(val_accuracy_1, label='Validation Accuracy')\n",
    "plt.plot(train_loss_1, label='Training Loss')\n",
    "plt.plot(val_loss_1, label='Validation Loss')\n",
    "plt.title('Training and Validation Metrics')\n",
    "plt.xlabel('Epoch')\n",
    "plt.ylabel('Metric')\n",
    "plt.legend()\n",
    "plt.show()\n"
   ]
  },
  {
   "cell_type": "code",
   "execution_count": 33,
   "id": "969de6fa",
   "metadata": {},
   "outputs": [
    {
     "name": "stdout",
     "output_type": "stream",
     "text": [
      "Total Training Time: 11950.84 seconds\n"
     ]
    },
    {
     "ename": "NameError",
     "evalue": "name 'total_accuracy' is not defined",
     "output_type": "error",
     "traceback": [
      "\u001b[1;31m---------------------------------------------------------------------------\u001b[0m",
      "\u001b[1;31mNameError\u001b[0m                                 Traceback (most recent call last)",
      "Cell \u001b[1;32mIn[33], line 2\u001b[0m\n\u001b[0;32m      1\u001b[0m \u001b[38;5;28mprint\u001b[39m(\u001b[38;5;124m\"\u001b[39m\u001b[38;5;124mTotal Training Time: \u001b[39m\u001b[38;5;132;01m{:.2f}\u001b[39;00m\u001b[38;5;124m seconds\u001b[39m\u001b[38;5;124m\"\u001b[39m\u001b[38;5;241m.\u001b[39mformat(training_time))\n\u001b[1;32m----> 2\u001b[0m \u001b[38;5;28mprint\u001b[39m(\u001b[38;5;124m\"\u001b[39m\u001b[38;5;124mTotal Training Accuracy: \u001b[39m\u001b[38;5;132;01m{:.4f}\u001b[39;00m\u001b[38;5;124m\"\u001b[39m\u001b[38;5;241m.\u001b[39mformat(\u001b[43mtotal_accuracy\u001b[49m)) \n\u001b[0;32m      3\u001b[0m \u001b[38;5;28mprint\u001b[39m(\u001b[38;5;124m\"\u001b[39m\u001b[38;5;124mTotal Validation Accuracy: \u001b[39m\u001b[38;5;132;01m{:.4f}\u001b[39;00m\u001b[38;5;124m\"\u001b[39m\u001b[38;5;241m.\u001b[39mformat(total_val_accuracy))  \n\u001b[0;32m      4\u001b[0m \u001b[38;5;28mprint\u001b[39m(\u001b[38;5;124m\"\u001b[39m\u001b[38;5;124mTotal Training Loss: \u001b[39m\u001b[38;5;132;01m{:.4f}\u001b[39;00m\u001b[38;5;124m\"\u001b[39m\u001b[38;5;241m.\u001b[39mformat(total_train_loss))  \n",
      "\u001b[1;31mNameError\u001b[0m: name 'total_accuracy' is not defined"
     ]
    }
   ],
   "source": [
    "print(\"Total Training Time: {:.2f} seconds\".format(training_time))\n",
    "print(\"Total Training Accuracy: {:.4f}\".format(total_accuracy)) \n",
    "print(\"Total Validation Accuracy: {:.4f}\".format(total_val_accuracy))  \n",
    "print(\"Total Training Loss: {:.4f}\".format(total_train_loss))  \n",
    "print(\"Total Validation Loss: {:.4f}\".format(total_val_loss)) \n",
    "\n",
    "\n",
    "print(\"Average Training Accuracy: {:.4f}\".format(avg_train_accuracy))\n",
    "print(\"Average Validation Accuracy: {:.4f}\".format(avg_val_accuracy))\n",
    "print(\"Average Training Loss: {:.4f}\".format(avg_train_loss))\n",
    "print(\"Average Validation Loss: {:.4f}\".format(avg_val_loss))\n"
   ]
  },
  {
   "cell_type": "code",
   "execution_count": null,
   "id": "fb659cbc",
   "metadata": {},
   "outputs": [],
   "source": []
  },
  {
   "cell_type": "code",
   "execution_count": null,
   "id": "bc3065c5",
   "metadata": {},
   "outputs": [],
   "source": []
  },
  {
   "cell_type": "code",
   "execution_count": null,
   "id": "9bc4a053",
   "metadata": {
    "scrolled": true
   },
   "outputs": [],
   "source": []
  },
  {
   "cell_type": "code",
   "execution_count": null,
   "id": "925ca801",
   "metadata": {},
   "outputs": [],
   "source": []
  },
  {
   "cell_type": "code",
   "execution_count": null,
   "id": "fee91bea",
   "metadata": {},
   "outputs": [],
   "source": []
  },
  {
   "cell_type": "code",
   "execution_count": null,
   "id": "29271c78",
   "metadata": {},
   "outputs": [],
   "source": []
  },
  {
   "cell_type": "code",
   "execution_count": null,
   "id": "e0d3af51",
   "metadata": {},
   "outputs": [],
   "source": []
  },
  {
   "cell_type": "code",
   "execution_count": null,
   "id": "86957d83",
   "metadata": {},
   "outputs": [],
   "source": []
  }
 ],
 "metadata": {
  "kernelspec": {
   "display_name": "Python 3 (ipykernel)",
   "language": "python",
   "name": "python3"
  },
  "language_info": {
   "codemirror_mode": {
    "name": "ipython",
    "version": 3
   },
   "file_extension": ".py",
   "mimetype": "text/x-python",
   "name": "python",
   "nbconvert_exporter": "python",
   "pygments_lexer": "ipython3",
   "version": "3.10.9"
  }
 },
 "nbformat": 4,
 "nbformat_minor": 5
}
